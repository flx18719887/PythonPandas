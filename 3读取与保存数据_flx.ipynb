{
 "cells": [
  {
   "cell_type": "code",
   "execution_count": 1,
   "metadata": {},
   "outputs": [],
   "source": [
    "import numpy as np\n",
    "import pandas as pd"
   ]
  },
  {
   "cell_type": "code",
   "execution_count": 2,
   "metadata": {},
   "outputs": [
    {
     "data": {
      "text/html": [
       "<div>\n",
       "<style scoped>\n",
       "    .dataframe tbody tr th:only-of-type {\n",
       "        vertical-align: middle;\n",
       "    }\n",
       "\n",
       "    .dataframe tbody tr th {\n",
       "        vertical-align: top;\n",
       "    }\n",
       "\n",
       "    .dataframe thead th {\n",
       "        text-align: right;\n",
       "    }\n",
       "</style>\n",
       "<table border=\"1\" class=\"dataframe\">\n",
       "  <thead>\n",
       "    <tr style=\"text-align: right;\">\n",
       "      <th></th>\n",
       "      <th>年龄</th>\n",
       "      <th>星座</th>\n",
       "      <th>身高</th>\n",
       "    </tr>\n",
       "    <tr>\n",
       "      <th>姓名</th>\n",
       "      <th></th>\n",
       "      <th></th>\n",
       "      <th></th>\n",
       "    </tr>\n",
       "  </thead>\n",
       "  <tbody>\n",
       "    <tr>\n",
       "      <th>小芳</th>\n",
       "      <td>30</td>\n",
       "      <td>巨蟹</td>\n",
       "      <td>160cm</td>\n",
       "    </tr>\n",
       "    <tr>\n",
       "      <th>小宛</th>\n",
       "      <td>28</td>\n",
       "      <td>白羊</td>\n",
       "      <td>168cm</td>\n",
       "    </tr>\n",
       "    <tr>\n",
       "      <th>小风</th>\n",
       "      <td>23</td>\n",
       "      <td>金牛</td>\n",
       "      <td>158cm</td>\n",
       "    </tr>\n",
       "    <tr>\n",
       "      <th>阿泰</th>\n",
       "      <td>25</td>\n",
       "      <td>双子</td>\n",
       "      <td>178cm</td>\n",
       "    </tr>\n",
       "    <tr>\n",
       "      <th>小明</th>\n",
       "      <td>22</td>\n",
       "      <td>摩羯</td>\n",
       "      <td>173cm</td>\n",
       "    </tr>\n",
       "  </tbody>\n",
       "</table>\n",
       "</div>"
      ],
      "text/plain": [
       "    年龄  星座     身高\n",
       "姓名               \n",
       "小芳  30  巨蟹  160cm\n",
       "小宛  28  白羊  168cm\n",
       "小风  23  金牛  158cm\n",
       "阿泰  25  双子  178cm\n",
       "小明  22  摩羯  173cm"
      ]
     },
     "execution_count": 2,
     "metadata": {},
     "output_type": "execute_result"
    }
   ],
   "source": [
    "columns = ['年龄', '星座', '身高']\n",
    "data= [[30, '巨蟹', '160cm'],\n",
    "       [28, '白羊', '168cm'],\n",
    "       [23, '金牛', '158cm'],\n",
    "       [25, '双子', '178cm'],\n",
    "       [22, '摩羯', '173cm']]\n",
    "\n",
    "index = ['小芳', '小宛', '小风', '阿泰', '小明']\n",
    "df = pd.DataFrame(data=data, index=index, columns=columns)\n",
    "df.index.name = '姓名'\n",
    "df"
   ]
  },
  {
   "cell_type": "code",
   "execution_count": 3,
   "metadata": {},
   "outputs": [],
   "source": [
    "# 将数据储存成csv格式\n",
    "df.to_csv('m1.csv')\n",
    "df.to_csv('m2.csv', encoding='gbk')\n",
    "df.to_csv('m3.csv', encoding='gbk', columns=['星座', '身高'])\n",
    "df.to_csv('m4.csv', encoding='gbk', header=False)\n",
    "df.to_csv('m5.csv', encoding='gbk', header=[1,2,3])\n",
    "df.to_csv('m6.csv', encoding='gbk', index=False)\n",
    "df.to_csv('m7.csv', encoding='gbk', sep='\\t')"
   ]
  },
  {
   "cell_type": "code",
   "execution_count": 4,
   "metadata": {},
   "outputs": [],
   "source": [
    "# 将数据储存成excel格式\n",
    "df.to_excel('m.xlsx')\n",
    "df.to_excel('m1.xlsx', sheet_name='居民信息')"
   ]
  },
  {
   "cell_type": "code",
   "execution_count": 5,
   "metadata": {},
   "outputs": [
    {
     "data": {
      "text/html": [
       "<div>\n",
       "<style scoped>\n",
       "    .dataframe tbody tr th:only-of-type {\n",
       "        vertical-align: middle;\n",
       "    }\n",
       "\n",
       "    .dataframe tbody tr th {\n",
       "        vertical-align: top;\n",
       "    }\n",
       "\n",
       "    .dataframe thead th {\n",
       "        text-align: right;\n",
       "    }\n",
       "</style>\n",
       "<table border=\"1\" class=\"dataframe\">\n",
       "  <thead>\n",
       "    <tr style=\"text-align: right;\">\n",
       "      <th></th>\n",
       "      <th>姓名</th>\n",
       "      <th>年龄</th>\n",
       "      <th>星座</th>\n",
       "      <th>身高</th>\n",
       "    </tr>\n",
       "  </thead>\n",
       "  <tbody>\n",
       "    <tr>\n",
       "      <th>0</th>\n",
       "      <td>小芳</td>\n",
       "      <td>30</td>\n",
       "      <td>巨蟹</td>\n",
       "      <td>160cm</td>\n",
       "    </tr>\n",
       "    <tr>\n",
       "      <th>1</th>\n",
       "      <td>小宛</td>\n",
       "      <td>28</td>\n",
       "      <td>白羊</td>\n",
       "      <td>168cm</td>\n",
       "    </tr>\n",
       "    <tr>\n",
       "      <th>2</th>\n",
       "      <td>小风</td>\n",
       "      <td>23</td>\n",
       "      <td>金牛</td>\n",
       "      <td>158cm</td>\n",
       "    </tr>\n",
       "    <tr>\n",
       "      <th>3</th>\n",
       "      <td>阿泰</td>\n",
       "      <td>25</td>\n",
       "      <td>双子</td>\n",
       "      <td>178cm</td>\n",
       "    </tr>\n",
       "    <tr>\n",
       "      <th>4</th>\n",
       "      <td>小明</td>\n",
       "      <td>22</td>\n",
       "      <td>摩羯</td>\n",
       "      <td>173cm</td>\n",
       "    </tr>\n",
       "  </tbody>\n",
       "</table>\n",
       "</div>"
      ],
      "text/plain": [
       "   姓名  年龄  星座     身高\n",
       "0  小芳  30  巨蟹  160cm\n",
       "1  小宛  28  白羊  168cm\n",
       "2  小风  23  金牛  158cm\n",
       "3  阿泰  25  双子  178cm\n",
       "4  小明  22  摩羯  173cm"
      ]
     },
     "execution_count": 5,
     "metadata": {},
     "output_type": "execute_result"
    }
   ],
   "source": [
    "# 读取数据\n",
    "df = pd.read_csv('m1.csv')\n",
    "df"
   ]
  },
  {
   "cell_type": "code",
   "execution_count": 6,
   "metadata": {},
   "outputs": [
    {
     "data": {
      "text/html": [
       "<div>\n",
       "<style scoped>\n",
       "    .dataframe tbody tr th:only-of-type {\n",
       "        vertical-align: middle;\n",
       "    }\n",
       "\n",
       "    .dataframe tbody tr th {\n",
       "        vertical-align: top;\n",
       "    }\n",
       "\n",
       "    .dataframe thead th {\n",
       "        text-align: right;\n",
       "    }\n",
       "</style>\n",
       "<table border=\"1\" class=\"dataframe\">\n",
       "  <thead>\n",
       "    <tr style=\"text-align: right;\">\n",
       "      <th></th>\n",
       "      <th>年龄</th>\n",
       "      <th>星座</th>\n",
       "      <th>身高</th>\n",
       "    </tr>\n",
       "    <tr>\n",
       "      <th>姓名</th>\n",
       "      <th></th>\n",
       "      <th></th>\n",
       "      <th></th>\n",
       "    </tr>\n",
       "  </thead>\n",
       "  <tbody>\n",
       "    <tr>\n",
       "      <th>小芳</th>\n",
       "      <td>30</td>\n",
       "      <td>巨蟹</td>\n",
       "      <td>160cm</td>\n",
       "    </tr>\n",
       "    <tr>\n",
       "      <th>小宛</th>\n",
       "      <td>28</td>\n",
       "      <td>白羊</td>\n",
       "      <td>168cm</td>\n",
       "    </tr>\n",
       "    <tr>\n",
       "      <th>小风</th>\n",
       "      <td>23</td>\n",
       "      <td>金牛</td>\n",
       "      <td>158cm</td>\n",
       "    </tr>\n",
       "    <tr>\n",
       "      <th>阿泰</th>\n",
       "      <td>25</td>\n",
       "      <td>双子</td>\n",
       "      <td>178cm</td>\n",
       "    </tr>\n",
       "    <tr>\n",
       "      <th>小明</th>\n",
       "      <td>22</td>\n",
       "      <td>摩羯</td>\n",
       "      <td>173cm</td>\n",
       "    </tr>\n",
       "  </tbody>\n",
       "</table>\n",
       "</div>"
      ],
      "text/plain": [
       "    年龄  星座     身高\n",
       "姓名               \n",
       "小芳  30  巨蟹  160cm\n",
       "小宛  28  白羊  168cm\n",
       "小风  23  金牛  158cm\n",
       "阿泰  25  双子  178cm\n",
       "小明  22  摩羯  173cm"
      ]
     },
     "execution_count": 6,
     "metadata": {},
     "output_type": "execute_result"
    }
   ],
   "source": [
    "df = pd.read_csv('m1.csv', index_col=0)\n",
    "df"
   ]
  },
  {
   "cell_type": "code",
   "execution_count": 7,
   "metadata": {},
   "outputs": [
    {
     "data": {
      "text/html": [
       "<div>\n",
       "<style scoped>\n",
       "    .dataframe tbody tr th:only-of-type {\n",
       "        vertical-align: middle;\n",
       "    }\n",
       "\n",
       "    .dataframe tbody tr th {\n",
       "        vertical-align: top;\n",
       "    }\n",
       "\n",
       "    .dataframe thead th {\n",
       "        text-align: right;\n",
       "    }\n",
       "</style>\n",
       "<table border=\"1\" class=\"dataframe\">\n",
       "  <thead>\n",
       "    <tr style=\"text-align: right;\">\n",
       "      <th></th>\n",
       "      <th>姓名</th>\n",
       "      <th>年龄</th>\n",
       "      <th>星座</th>\n",
       "    </tr>\n",
       "    <tr>\n",
       "      <th>身高</th>\n",
       "      <th></th>\n",
       "      <th></th>\n",
       "      <th></th>\n",
       "    </tr>\n",
       "  </thead>\n",
       "  <tbody>\n",
       "    <tr>\n",
       "      <th>160cm</th>\n",
       "      <td>小芳</td>\n",
       "      <td>30</td>\n",
       "      <td>巨蟹</td>\n",
       "    </tr>\n",
       "    <tr>\n",
       "      <th>168cm</th>\n",
       "      <td>小宛</td>\n",
       "      <td>28</td>\n",
       "      <td>白羊</td>\n",
       "    </tr>\n",
       "    <tr>\n",
       "      <th>158cm</th>\n",
       "      <td>小风</td>\n",
       "      <td>23</td>\n",
       "      <td>金牛</td>\n",
       "    </tr>\n",
       "    <tr>\n",
       "      <th>178cm</th>\n",
       "      <td>阿泰</td>\n",
       "      <td>25</td>\n",
       "      <td>双子</td>\n",
       "    </tr>\n",
       "    <tr>\n",
       "      <th>173cm</th>\n",
       "      <td>小明</td>\n",
       "      <td>22</td>\n",
       "      <td>摩羯</td>\n",
       "    </tr>\n",
       "  </tbody>\n",
       "</table>\n",
       "</div>"
      ],
      "text/plain": [
       "       姓名  年龄  星座\n",
       "身高               \n",
       "160cm  小芳  30  巨蟹\n",
       "168cm  小宛  28  白羊\n",
       "158cm  小风  23  金牛\n",
       "178cm  阿泰  25  双子\n",
       "173cm  小明  22  摩羯"
      ]
     },
     "execution_count": 7,
     "metadata": {},
     "output_type": "execute_result"
    }
   ],
   "source": [
    "df = pd.read_csv('m2.csv', encoding='gbk', index_col=3, header=0)\n",
    "df"
   ]
  },
  {
   "cell_type": "code",
   "execution_count": 8,
   "metadata": {},
   "outputs": [
    {
     "data": {
      "text/html": [
       "<div>\n",
       "<style scoped>\n",
       "    .dataframe tbody tr th:only-of-type {\n",
       "        vertical-align: middle;\n",
       "    }\n",
       "\n",
       "    .dataframe tbody tr th {\n",
       "        vertical-align: top;\n",
       "    }\n",
       "\n",
       "    .dataframe thead th {\n",
       "        text-align: right;\n",
       "    }\n",
       "</style>\n",
       "<table border=\"1\" class=\"dataframe\">\n",
       "  <thead>\n",
       "    <tr style=\"text-align: right;\">\n",
       "      <th></th>\n",
       "    </tr>\n",
       "    <tr>\n",
       "      <th>姓名\t年龄\t星座\t身高</th>\n",
       "    </tr>\n",
       "  </thead>\n",
       "  <tbody>\n",
       "    <tr>\n",
       "      <th>小芳\\t30\\t巨蟹\\t160cm</th>\n",
       "    </tr>\n",
       "    <tr>\n",
       "      <th>小宛\\t28\\t白羊\\t168cm</th>\n",
       "    </tr>\n",
       "    <tr>\n",
       "      <th>小风\\t23\\t金牛\\t158cm</th>\n",
       "    </tr>\n",
       "    <tr>\n",
       "      <th>阿泰\\t25\\t双子\\t178cm</th>\n",
       "    </tr>\n",
       "    <tr>\n",
       "      <th>小明\\t22\\t摩羯\\t173cm</th>\n",
       "    </tr>\n",
       "  </tbody>\n",
       "</table>\n",
       "</div>"
      ],
      "text/plain": [
       "Empty DataFrame\n",
       "Columns: []\n",
       "Index: [小芳\t30\t巨蟹\t160cm, 小宛\t28\t白羊\t168cm, 小风\t23\t金牛\t158cm, 阿泰\t25\t双子\t178cm, 小明\t22\t摩羯\t173cm]"
      ]
     },
     "execution_count": 8,
     "metadata": {},
     "output_type": "execute_result"
    }
   ],
   "source": [
    "df = pd.read_csv('m7.csv', index_col=0, encoding='gbk')\n",
    "df"
   ]
  },
  {
   "cell_type": "code",
   "execution_count": 9,
   "metadata": {},
   "outputs": [
    {
     "data": {
      "text/html": [
       "<div>\n",
       "<style scoped>\n",
       "    .dataframe tbody tr th:only-of-type {\n",
       "        vertical-align: middle;\n",
       "    }\n",
       "\n",
       "    .dataframe tbody tr th {\n",
       "        vertical-align: top;\n",
       "    }\n",
       "\n",
       "    .dataframe thead th {\n",
       "        text-align: right;\n",
       "    }\n",
       "</style>\n",
       "<table border=\"1\" class=\"dataframe\">\n",
       "  <thead>\n",
       "    <tr style=\"text-align: right;\">\n",
       "      <th></th>\n",
       "      <th>年龄</th>\n",
       "      <th>星座</th>\n",
       "      <th>身高</th>\n",
       "    </tr>\n",
       "    <tr>\n",
       "      <th>姓名</th>\n",
       "      <th></th>\n",
       "      <th></th>\n",
       "      <th></th>\n",
       "    </tr>\n",
       "  </thead>\n",
       "  <tbody>\n",
       "    <tr>\n",
       "      <th>小芳</th>\n",
       "      <td>30</td>\n",
       "      <td>巨蟹</td>\n",
       "      <td>160cm</td>\n",
       "    </tr>\n",
       "    <tr>\n",
       "      <th>小宛</th>\n",
       "      <td>28</td>\n",
       "      <td>白羊</td>\n",
       "      <td>168cm</td>\n",
       "    </tr>\n",
       "    <tr>\n",
       "      <th>小风</th>\n",
       "      <td>23</td>\n",
       "      <td>金牛</td>\n",
       "      <td>158cm</td>\n",
       "    </tr>\n",
       "    <tr>\n",
       "      <th>阿泰</th>\n",
       "      <td>25</td>\n",
       "      <td>双子</td>\n",
       "      <td>178cm</td>\n",
       "    </tr>\n",
       "    <tr>\n",
       "      <th>小明</th>\n",
       "      <td>22</td>\n",
       "      <td>摩羯</td>\n",
       "      <td>173cm</td>\n",
       "    </tr>\n",
       "  </tbody>\n",
       "</table>\n",
       "</div>"
      ],
      "text/plain": [
       "    年龄  星座     身高\n",
       "姓名               \n",
       "小芳  30  巨蟹  160cm\n",
       "小宛  28  白羊  168cm\n",
       "小风  23  金牛  158cm\n",
       "阿泰  25  双子  178cm\n",
       "小明  22  摩羯  173cm"
      ]
     },
     "execution_count": 9,
     "metadata": {},
     "output_type": "execute_result"
    }
   ],
   "source": [
    "df = pd.read_csv('m7.csv', index_col=0, encoding='gbk', sep='\\t')\n",
    "df"
   ]
  },
  {
   "cell_type": "code",
   "execution_count": 10,
   "metadata": {},
   "outputs": [
    {
     "data": {
      "text/html": [
       "<div>\n",
       "<style scoped>\n",
       "    .dataframe tbody tr th:only-of-type {\n",
       "        vertical-align: middle;\n",
       "    }\n",
       "\n",
       "    .dataframe tbody tr th {\n",
       "        vertical-align: top;\n",
       "    }\n",
       "\n",
       "    .dataframe thead th {\n",
       "        text-align: right;\n",
       "    }\n",
       "</style>\n",
       "<table border=\"1\" class=\"dataframe\">\n",
       "  <thead>\n",
       "    <tr style=\"text-align: right;\">\n",
       "      <th></th>\n",
       "      <th>姓名</th>\n",
       "      <th>年龄</th>\n",
       "      <th>星座</th>\n",
       "      <th>身高</th>\n",
       "    </tr>\n",
       "  </thead>\n",
       "  <tbody>\n",
       "    <tr>\n",
       "      <th>0</th>\n",
       "      <td>小芳</td>\n",
       "      <td>30</td>\n",
       "      <td>巨蟹</td>\n",
       "      <td>160cm</td>\n",
       "    </tr>\n",
       "    <tr>\n",
       "      <th>1</th>\n",
       "      <td>小宛</td>\n",
       "      <td>28</td>\n",
       "      <td>白羊</td>\n",
       "      <td>168cm</td>\n",
       "    </tr>\n",
       "    <tr>\n",
       "      <th>2</th>\n",
       "      <td>小风</td>\n",
       "      <td>23</td>\n",
       "      <td>金牛</td>\n",
       "      <td>158cm</td>\n",
       "    </tr>\n",
       "    <tr>\n",
       "      <th>3</th>\n",
       "      <td>阿泰</td>\n",
       "      <td>25</td>\n",
       "      <td>双子</td>\n",
       "      <td>178cm</td>\n",
       "    </tr>\n",
       "    <tr>\n",
       "      <th>4</th>\n",
       "      <td>小明</td>\n",
       "      <td>22</td>\n",
       "      <td>摩羯</td>\n",
       "      <td>173cm</td>\n",
       "    </tr>\n",
       "  </tbody>\n",
       "</table>\n",
       "</div>"
      ],
      "text/plain": [
       "   姓名  年龄  星座     身高\n",
       "0  小芳  30  巨蟹  160cm\n",
       "1  小宛  28  白羊  168cm\n",
       "2  小风  23  金牛  158cm\n",
       "3  阿泰  25  双子  178cm\n",
       "4  小明  22  摩羯  173cm"
      ]
     },
     "execution_count": 10,
     "metadata": {},
     "output_type": "execute_result"
    }
   ],
   "source": [
    "# 读取 excel 数据\n",
    "df = pd.read_excel('m.xlsx')\n",
    "df"
   ]
  },
  {
   "cell_type": "code",
   "execution_count": 11,
   "metadata": {},
   "outputs": [
    {
     "data": {
      "text/html": [
       "<div>\n",
       "<style scoped>\n",
       "    .dataframe tbody tr th:only-of-type {\n",
       "        vertical-align: middle;\n",
       "    }\n",
       "\n",
       "    .dataframe tbody tr th {\n",
       "        vertical-align: top;\n",
       "    }\n",
       "\n",
       "    .dataframe thead th {\n",
       "        text-align: right;\n",
       "    }\n",
       "</style>\n",
       "<table border=\"1\" class=\"dataframe\">\n",
       "  <thead>\n",
       "    <tr style=\"text-align: right;\">\n",
       "      <th></th>\n",
       "      <th>年龄</th>\n",
       "      <th>星座</th>\n",
       "      <th>身高</th>\n",
       "    </tr>\n",
       "    <tr>\n",
       "      <th>姓名</th>\n",
       "      <th></th>\n",
       "      <th></th>\n",
       "      <th></th>\n",
       "    </tr>\n",
       "  </thead>\n",
       "  <tbody>\n",
       "    <tr>\n",
       "      <th>小芳</th>\n",
       "      <td>30</td>\n",
       "      <td>巨蟹</td>\n",
       "      <td>160cm</td>\n",
       "    </tr>\n",
       "    <tr>\n",
       "      <th>小宛</th>\n",
       "      <td>28</td>\n",
       "      <td>白羊</td>\n",
       "      <td>168cm</td>\n",
       "    </tr>\n",
       "    <tr>\n",
       "      <th>小风</th>\n",
       "      <td>23</td>\n",
       "      <td>金牛</td>\n",
       "      <td>158cm</td>\n",
       "    </tr>\n",
       "    <tr>\n",
       "      <th>阿泰</th>\n",
       "      <td>25</td>\n",
       "      <td>双子</td>\n",
       "      <td>178cm</td>\n",
       "    </tr>\n",
       "    <tr>\n",
       "      <th>小明</th>\n",
       "      <td>22</td>\n",
       "      <td>摩羯</td>\n",
       "      <td>173cm</td>\n",
       "    </tr>\n",
       "  </tbody>\n",
       "</table>\n",
       "</div>"
      ],
      "text/plain": [
       "    年龄  星座     身高\n",
       "姓名               \n",
       "小芳  30  巨蟹  160cm\n",
       "小宛  28  白羊  168cm\n",
       "小风  23  金牛  158cm\n",
       "阿泰  25  双子  178cm\n",
       "小明  22  摩羯  173cm"
      ]
     },
     "execution_count": 11,
     "metadata": {},
     "output_type": "execute_result"
    }
   ],
   "source": [
    "df = pd.read_excel('m.xlsx', index_col=0)\n",
    "df"
   ]
  },
  {
   "cell_type": "code",
   "execution_count": 12,
   "metadata": {},
   "outputs": [
    {
     "data": {
      "text/html": [
       "<div>\n",
       "<style scoped>\n",
       "    .dataframe tbody tr th:only-of-type {\n",
       "        vertical-align: middle;\n",
       "    }\n",
       "\n",
       "    .dataframe tbody tr th {\n",
       "        vertical-align: top;\n",
       "    }\n",
       "\n",
       "    .dataframe thead th {\n",
       "        text-align: right;\n",
       "    }\n",
       "</style>\n",
       "<table border=\"1\" class=\"dataframe\">\n",
       "  <thead>\n",
       "    <tr style=\"text-align: right;\">\n",
       "      <th></th>\n",
       "      <th>姓名</th>\n",
       "      <th>年龄</th>\n",
       "      <th>星座</th>\n",
       "      <th>身高</th>\n",
       "    </tr>\n",
       "  </thead>\n",
       "  <tbody>\n",
       "    <tr>\n",
       "      <th>0</th>\n",
       "      <td>小芳</td>\n",
       "      <td>30</td>\n",
       "      <td>巨蟹</td>\n",
       "      <td>160cm</td>\n",
       "    </tr>\n",
       "    <tr>\n",
       "      <th>1</th>\n",
       "      <td>小宛</td>\n",
       "      <td>28</td>\n",
       "      <td>白羊</td>\n",
       "      <td>168cm</td>\n",
       "    </tr>\n",
       "    <tr>\n",
       "      <th>2</th>\n",
       "      <td>小风</td>\n",
       "      <td>23</td>\n",
       "      <td>金牛</td>\n",
       "      <td>158cm</td>\n",
       "    </tr>\n",
       "    <tr>\n",
       "      <th>3</th>\n",
       "      <td>阿泰</td>\n",
       "      <td>25</td>\n",
       "      <td>双子</td>\n",
       "      <td>178cm</td>\n",
       "    </tr>\n",
       "    <tr>\n",
       "      <th>4</th>\n",
       "      <td>小明</td>\n",
       "      <td>22</td>\n",
       "      <td>摩羯</td>\n",
       "      <td>173cm</td>\n",
       "    </tr>\n",
       "  </tbody>\n",
       "</table>\n",
       "</div>"
      ],
      "text/plain": [
       "   姓名  年龄  星座     身高\n",
       "0  小芳  30  巨蟹  160cm\n",
       "1  小宛  28  白羊  168cm\n",
       "2  小风  23  金牛  158cm\n",
       "3  阿泰  25  双子  178cm\n",
       "4  小明  22  摩羯  173cm"
      ]
     },
     "execution_count": 12,
     "metadata": {},
     "output_type": "execute_result"
    }
   ],
   "source": [
    "df = pd.read_excel('m1.xlsx')\n",
    "df"
   ]
  },
  {
   "cell_type": "code",
   "execution_count": 13,
   "metadata": {},
   "outputs": [
    {
     "data": {
      "text/html": [
       "<div>\n",
       "<style scoped>\n",
       "    .dataframe tbody tr th:only-of-type {\n",
       "        vertical-align: middle;\n",
       "    }\n",
       "\n",
       "    .dataframe tbody tr th {\n",
       "        vertical-align: top;\n",
       "    }\n",
       "\n",
       "    .dataframe thead th {\n",
       "        text-align: right;\n",
       "    }\n",
       "</style>\n",
       "<table border=\"1\" class=\"dataframe\">\n",
       "  <thead>\n",
       "    <tr style=\"text-align: right;\">\n",
       "      <th></th>\n",
       "      <th>姓名</th>\n",
       "      <th>年龄</th>\n",
       "      <th>星座</th>\n",
       "      <th>身高</th>\n",
       "    </tr>\n",
       "  </thead>\n",
       "  <tbody>\n",
       "    <tr>\n",
       "      <th>0</th>\n",
       "      <td>小芳</td>\n",
       "      <td>30</td>\n",
       "      <td>巨蟹</td>\n",
       "      <td>160cm</td>\n",
       "    </tr>\n",
       "    <tr>\n",
       "      <th>1</th>\n",
       "      <td>小宛</td>\n",
       "      <td>28</td>\n",
       "      <td>白羊</td>\n",
       "      <td>168cm</td>\n",
       "    </tr>\n",
       "    <tr>\n",
       "      <th>2</th>\n",
       "      <td>小风</td>\n",
       "      <td>23</td>\n",
       "      <td>金牛</td>\n",
       "      <td>158cm</td>\n",
       "    </tr>\n",
       "    <tr>\n",
       "      <th>3</th>\n",
       "      <td>阿泰</td>\n",
       "      <td>25</td>\n",
       "      <td>双子</td>\n",
       "      <td>178cm</td>\n",
       "    </tr>\n",
       "    <tr>\n",
       "      <th>4</th>\n",
       "      <td>小明</td>\n",
       "      <td>22</td>\n",
       "      <td>摩羯</td>\n",
       "      <td>173cm</td>\n",
       "    </tr>\n",
       "  </tbody>\n",
       "</table>\n",
       "</div>"
      ],
      "text/plain": [
       "   姓名  年龄  星座     身高\n",
       "0  小芳  30  巨蟹  160cm\n",
       "1  小宛  28  白羊  168cm\n",
       "2  小风  23  金牛  158cm\n",
       "3  阿泰  25  双子  178cm\n",
       "4  小明  22  摩羯  173cm"
      ]
     },
     "execution_count": 13,
     "metadata": {},
     "output_type": "execute_result"
    }
   ],
   "source": [
    "df = pd.read_excel('m1.xlsx', sheet_name='居民信息')\n",
    "df"
   ]
  },
  {
   "cell_type": "code",
   "execution_count": 14,
   "metadata": {},
   "outputs": [
    {
     "name": "stdout",
     "output_type": "stream",
     "text": [
      "   姓名  年龄  星座     身高\n",
      "0  小芳  30  巨蟹  160cm\n",
      "1  小宛  28  白羊  168cm\n",
      "2  小风  23  金牛  158cm\n",
      "3  阿泰  25  双子  178cm\n",
      "4  小明  22  摩羯  173cm\n"
     ]
    }
   ],
   "source": [
    "# 将数据转换成其他数据类型\n",
    "s = df.to_string()\n",
    "print(s)\n"
   ]
  },
  {
   "cell_type": "markdown",
   "metadata": {},
   "source": [
    "### to_dict() 函数基本语法\n",
    "```\n",
    "DataFrame.to_dict (self,** orient=’dict’, into=) — 官方文档\n",
    "\n",
    "函数种只需要填写一个参数：orient 即可 ，但对于写入orient的不同，字典的构造方式也不同，官网一共给出了6种，并且其中一种是列表类型：\n",
    "\n",
    "orient =’dict’，是函数默认的，转化后的字典形式：{column(列名) : {index(行名) : value(值) )}}；\n",
    "orient =’list’ ，转化后的字典形式：{column(列名) :{[ values ](值)}};\n",
    "orient =’series’ ，转化后的字典形式：{column(列名) : Series (values) (值)};\n",
    "orient =’split’ ，转化后的字典形式：{‘index’ : [index]，‘columns’ :[columns]，’data‘ : [values]};\n",
    "orient =’records’ ，转化后是 list形式：[{column(列名) : value(值)}……{column:value}];\n",
    "orient =’index’ ，转化后的字典形式：{index(值) : {column(列名) : value(值)}};\n",
    "备注：\n",
    "value 代表数据表中的值，column表示列名，index 表示行名\n",
    "```"
   ]
  },
  {
   "cell_type": "code",
   "execution_count": 15,
   "metadata": {},
   "outputs": [
    {
     "data": {
      "text/plain": [
       "{'姓名': {0: '小芳', 1: '小宛', 2: '小风', 3: '阿泰', 4: '小明'},\n",
       " '年龄': {0: 30, 1: 28, 2: 23, 3: 25, 4: 22},\n",
       " '星座': {0: '巨蟹', 1: '白羊', 2: '金牛', 3: '双子', 4: '摩羯'},\n",
       " '身高': {0: '160cm', 1: '168cm', 2: '158cm', 3: '178cm', 4: '173cm'}}"
      ]
     },
     "execution_count": 15,
     "metadata": {},
     "output_type": "execute_result"
    }
   ],
   "source": [
    "d = df.to_dict()\n",
    "d"
   ]
  },
  {
   "cell_type": "code",
   "execution_count": 16,
   "metadata": {},
   "outputs": [
    {
     "data": {
      "text/html": [
       "<div>\n",
       "<style scoped>\n",
       "    .dataframe tbody tr th:only-of-type {\n",
       "        vertical-align: middle;\n",
       "    }\n",
       "\n",
       "    .dataframe tbody tr th {\n",
       "        vertical-align: top;\n",
       "    }\n",
       "\n",
       "    .dataframe thead th {\n",
       "        text-align: right;\n",
       "    }\n",
       "</style>\n",
       "<table border=\"1\" class=\"dataframe\">\n",
       "  <thead>\n",
       "    <tr style=\"text-align: right;\">\n",
       "      <th></th>\n",
       "      <th>姓名</th>\n",
       "      <th>年龄</th>\n",
       "      <th>星座</th>\n",
       "      <th>身高</th>\n",
       "    </tr>\n",
       "  </thead>\n",
       "  <tbody>\n",
       "    <tr>\n",
       "      <th>0</th>\n",
       "      <td>小芳</td>\n",
       "      <td>30</td>\n",
       "      <td>巨蟹</td>\n",
       "      <td>160cm</td>\n",
       "    </tr>\n",
       "    <tr>\n",
       "      <th>1</th>\n",
       "      <td>小宛</td>\n",
       "      <td>28</td>\n",
       "      <td>白羊</td>\n",
       "      <td>168cm</td>\n",
       "    </tr>\n",
       "    <tr>\n",
       "      <th>2</th>\n",
       "      <td>小风</td>\n",
       "      <td>23</td>\n",
       "      <td>金牛</td>\n",
       "      <td>158cm</td>\n",
       "    </tr>\n",
       "    <tr>\n",
       "      <th>3</th>\n",
       "      <td>阿泰</td>\n",
       "      <td>25</td>\n",
       "      <td>双子</td>\n",
       "      <td>178cm</td>\n",
       "    </tr>\n",
       "    <tr>\n",
       "      <th>4</th>\n",
       "      <td>小明</td>\n",
       "      <td>22</td>\n",
       "      <td>摩羯</td>\n",
       "      <td>173cm</td>\n",
       "    </tr>\n",
       "  </tbody>\n",
       "</table>\n",
       "</div>"
      ],
      "text/plain": [
       "   姓名  年龄  星座     身高\n",
       "0  小芳  30  巨蟹  160cm\n",
       "1  小宛  28  白羊  168cm\n",
       "2  小风  23  金牛  158cm\n",
       "3  阿泰  25  双子  178cm\n",
       "4  小明  22  摩羯  173cm"
      ]
     },
     "execution_count": 16,
     "metadata": {},
     "output_type": "execute_result"
    }
   ],
   "source": [
    "DF = pd.DataFrame(d)\n",
    "DF"
   ]
  },
  {
   "cell_type": "code",
   "execution_count": 17,
   "metadata": {},
   "outputs": [
    {
     "data": {
      "text/plain": [
       "{'姓名': ['小芳', '小宛', '小风', '阿泰', '小明'],\n",
       " '年龄': [30, 28, 23, 25, 22],\n",
       " '星座': ['巨蟹', '白羊', '金牛', '双子', '摩羯'],\n",
       " '身高': ['160cm', '168cm', '158cm', '178cm', '173cm']}"
      ]
     },
     "execution_count": 17,
     "metadata": {},
     "output_type": "execute_result"
    }
   ],
   "source": [
    "d_list = df.to_dict('list')\n",
    "d_list"
   ]
  },
  {
   "cell_type": "code",
   "execution_count": 18,
   "metadata": {},
   "outputs": [
    {
     "data": {
      "text/html": [
       "<div>\n",
       "<style scoped>\n",
       "    .dataframe tbody tr th:only-of-type {\n",
       "        vertical-align: middle;\n",
       "    }\n",
       "\n",
       "    .dataframe tbody tr th {\n",
       "        vertical-align: top;\n",
       "    }\n",
       "\n",
       "    .dataframe thead th {\n",
       "        text-align: right;\n",
       "    }\n",
       "</style>\n",
       "<table border=\"1\" class=\"dataframe\">\n",
       "  <thead>\n",
       "    <tr style=\"text-align: right;\">\n",
       "      <th></th>\n",
       "      <th>姓名</th>\n",
       "      <th>年龄</th>\n",
       "      <th>星座</th>\n",
       "      <th>身高</th>\n",
       "    </tr>\n",
       "  </thead>\n",
       "  <tbody>\n",
       "    <tr>\n",
       "      <th>0</th>\n",
       "      <td>小芳</td>\n",
       "      <td>30</td>\n",
       "      <td>巨蟹</td>\n",
       "      <td>160cm</td>\n",
       "    </tr>\n",
       "    <tr>\n",
       "      <th>1</th>\n",
       "      <td>小宛</td>\n",
       "      <td>28</td>\n",
       "      <td>白羊</td>\n",
       "      <td>168cm</td>\n",
       "    </tr>\n",
       "    <tr>\n",
       "      <th>2</th>\n",
       "      <td>小风</td>\n",
       "      <td>23</td>\n",
       "      <td>金牛</td>\n",
       "      <td>158cm</td>\n",
       "    </tr>\n",
       "    <tr>\n",
       "      <th>3</th>\n",
       "      <td>阿泰</td>\n",
       "      <td>25</td>\n",
       "      <td>双子</td>\n",
       "      <td>178cm</td>\n",
       "    </tr>\n",
       "    <tr>\n",
       "      <th>4</th>\n",
       "      <td>小明</td>\n",
       "      <td>22</td>\n",
       "      <td>摩羯</td>\n",
       "      <td>173cm</td>\n",
       "    </tr>\n",
       "  </tbody>\n",
       "</table>\n",
       "</div>"
      ],
      "text/plain": [
       "   姓名  年龄  星座     身高\n",
       "0  小芳  30  巨蟹  160cm\n",
       "1  小宛  28  白羊  168cm\n",
       "2  小风  23  金牛  158cm\n",
       "3  阿泰  25  双子  178cm\n",
       "4  小明  22  摩羯  173cm"
      ]
     },
     "execution_count": 18,
     "metadata": {},
     "output_type": "execute_result"
    }
   ],
   "source": [
    "DLIST = pd.DataFrame(d_list)\n",
    "DLIST"
   ]
  },
  {
   "cell_type": "code",
   "execution_count": 19,
   "metadata": {},
   "outputs": [
    {
     "data": {
      "text/plain": [
       "{'姓名': 0    小芳\n",
       " 1    小宛\n",
       " 2    小风\n",
       " 3    阿泰\n",
       " 4    小明\n",
       " Name: 姓名, dtype: object, '年龄': 0    30\n",
       " 1    28\n",
       " 2    23\n",
       " 3    25\n",
       " 4    22\n",
       " Name: 年龄, dtype: int64, '星座': 0    巨蟹\n",
       " 1    白羊\n",
       " 2    金牛\n",
       " 3    双子\n",
       " 4    摩羯\n",
       " Name: 星座, dtype: object, '身高': 0    160cm\n",
       " 1    168cm\n",
       " 2    158cm\n",
       " 3    178cm\n",
       " 4    173cm\n",
       " Name: 身高, dtype: object}"
      ]
     },
     "execution_count": 19,
     "metadata": {},
     "output_type": "execute_result"
    }
   ],
   "source": [
    "d_series = df.to_dict('series')\n",
    "d_series"
   ]
  },
  {
   "cell_type": "code",
   "execution_count": 21,
   "metadata": {},
   "outputs": [
    {
     "data": {
      "text/plain": [
       "dict_keys(['姓名', '年龄', '星座', '身高'])"
      ]
     },
     "execution_count": 21,
     "metadata": {},
     "output_type": "execute_result"
    }
   ],
   "source": [
    "d_series.keys()"
   ]
  },
  {
   "cell_type": "code",
   "execution_count": 22,
   "metadata": {},
   "outputs": [
    {
     "data": {
      "text/plain": [
       "dict_values([0    小芳\n",
       "1    小宛\n",
       "2    小风\n",
       "3    阿泰\n",
       "4    小明\n",
       "Name: 姓名, dtype: object, 0    30\n",
       "1    28\n",
       "2    23\n",
       "3    25\n",
       "4    22\n",
       "Name: 年龄, dtype: int64, 0    巨蟹\n",
       "1    白羊\n",
       "2    金牛\n",
       "3    双子\n",
       "4    摩羯\n",
       "Name: 星座, dtype: object, 0    160cm\n",
       "1    168cm\n",
       "2    158cm\n",
       "3    178cm\n",
       "4    173cm\n",
       "Name: 身高, dtype: object])"
      ]
     },
     "execution_count": 22,
     "metadata": {},
     "output_type": "execute_result"
    }
   ],
   "source": [
    "d_series.values()"
   ]
  },
  {
   "cell_type": "code",
   "execution_count": 23,
   "metadata": {},
   "outputs": [
    {
     "data": {
      "text/plain": [
       "dict_items([('姓名', 0    小芳\n",
       "1    小宛\n",
       "2    小风\n",
       "3    阿泰\n",
       "4    小明\n",
       "Name: 姓名, dtype: object), ('年龄', 0    30\n",
       "1    28\n",
       "2    23\n",
       "3    25\n",
       "4    22\n",
       "Name: 年龄, dtype: int64), ('星座', 0    巨蟹\n",
       "1    白羊\n",
       "2    金牛\n",
       "3    双子\n",
       "4    摩羯\n",
       "Name: 星座, dtype: object), ('身高', 0    160cm\n",
       "1    168cm\n",
       "2    158cm\n",
       "3    178cm\n",
       "4    173cm\n",
       "Name: 身高, dtype: object)])"
      ]
     },
     "execution_count": 23,
     "metadata": {},
     "output_type": "execute_result"
    }
   ],
   "source": [
    "d_series.items()"
   ]
  },
  {
   "cell_type": "code",
   "execution_count": 24,
   "metadata": {},
   "outputs": [
    {
     "data": {
      "text/plain": [
       "0    巨蟹\n",
       "1    白羊\n",
       "2    金牛\n",
       "3    双子\n",
       "4    摩羯\n",
       "Name: 星座, dtype: object"
      ]
     },
     "execution_count": 24,
     "metadata": {},
     "output_type": "execute_result"
    }
   ],
   "source": [
    "d_series['星座']"
   ]
  },
  {
   "cell_type": "code",
   "execution_count": 25,
   "metadata": {},
   "outputs": [
    {
     "data": {
      "text/plain": [
       "{'index': [0, 1, 2, 3, 4],\n",
       " 'columns': ['姓名', '年龄', '星座', '身高'],\n",
       " 'data': [['小芳', 30, '巨蟹', '160cm'],\n",
       "  ['小宛', 28, '白羊', '168cm'],\n",
       "  ['小风', 23, '金牛', '158cm'],\n",
       "  ['阿泰', 25, '双子', '178cm'],\n",
       "  ['小明', 22, '摩羯', '173cm']]}"
      ]
     },
     "execution_count": 25,
     "metadata": {},
     "output_type": "execute_result"
    }
   ],
   "source": [
    "ds = df.to_dict('split')\n",
    "ds"
   ]
  },
  {
   "cell_type": "code",
   "execution_count": 26,
   "metadata": {
    "scrolled": true
   },
   "outputs": [
    {
     "data": {
      "text/plain": [
       "[{'姓名': '小芳', '年龄': 30, '星座': '巨蟹', '身高': '160cm'},\n",
       " {'姓名': '小宛', '年龄': 28, '星座': '白羊', '身高': '168cm'},\n",
       " {'姓名': '小风', '年龄': 23, '星座': '金牛', '身高': '158cm'},\n",
       " {'姓名': '阿泰', '年龄': 25, '星座': '双子', '身高': '178cm'},\n",
       " {'姓名': '小明', '年龄': 22, '星座': '摩羯', '身高': '173cm'}]"
      ]
     },
     "execution_count": 26,
     "metadata": {},
     "output_type": "execute_result"
    }
   ],
   "source": [
    "dr = df.to_dict('records')\n",
    "dr"
   ]
  },
  {
   "cell_type": "code",
   "execution_count": 27,
   "metadata": {},
   "outputs": [
    {
     "data": {
      "text/plain": [
       "{0: {'姓名': '小芳', '年龄': 30, '星座': '巨蟹', '身高': '160cm'},\n",
       " 1: {'姓名': '小宛', '年龄': 28, '星座': '白羊', '身高': '168cm'},\n",
       " 2: {'姓名': '小风', '年龄': 23, '星座': '金牛', '身高': '158cm'},\n",
       " 3: {'姓名': '阿泰', '年龄': 25, '星座': '双子', '身高': '178cm'},\n",
       " 4: {'姓名': '小明', '年龄': 22, '星座': '摩羯', '身高': '173cm'}}"
      ]
     },
     "execution_count": 27,
     "metadata": {},
     "output_type": "execute_result"
    }
   ],
   "source": [
    "di = df.to_dict('index')\n",
    "di"
   ]
  },
  {
   "cell_type": "code",
   "execution_count": 28,
   "metadata": {},
   "outputs": [
    {
     "data": {
      "text/html": [
       "<div>\n",
       "<style scoped>\n",
       "    .dataframe tbody tr th:only-of-type {\n",
       "        vertical-align: middle;\n",
       "    }\n",
       "\n",
       "    .dataframe tbody tr th {\n",
       "        vertical-align: top;\n",
       "    }\n",
       "\n",
       "    .dataframe thead th {\n",
       "        text-align: right;\n",
       "    }\n",
       "</style>\n",
       "<table border=\"1\" class=\"dataframe\">\n",
       "  <thead>\n",
       "    <tr style=\"text-align: right;\">\n",
       "      <th></th>\n",
       "      <th>星座</th>\n",
       "      <th>身高</th>\n",
       "    </tr>\n",
       "    <tr>\n",
       "      <th>姓名</th>\n",
       "      <th></th>\n",
       "      <th></th>\n",
       "    </tr>\n",
       "  </thead>\n",
       "  <tbody>\n",
       "    <tr>\n",
       "      <th>小芳</th>\n",
       "      <td>巨蟹</td>\n",
       "      <td>160cm</td>\n",
       "    </tr>\n",
       "    <tr>\n",
       "      <th>小宛</th>\n",
       "      <td>白羊</td>\n",
       "      <td>168cm</td>\n",
       "    </tr>\n",
       "    <tr>\n",
       "      <th>小风</th>\n",
       "      <td>金牛</td>\n",
       "      <td>158cm</td>\n",
       "    </tr>\n",
       "    <tr>\n",
       "      <th>阿泰</th>\n",
       "      <td>双子</td>\n",
       "      <td>178cm</td>\n",
       "    </tr>\n",
       "    <tr>\n",
       "      <th>小明</th>\n",
       "      <td>摩羯</td>\n",
       "      <td>173cm</td>\n",
       "    </tr>\n",
       "  </tbody>\n",
       "</table>\n",
       "</div>"
      ],
      "text/plain": [
       "    星座     身高\n",
       "姓名           \n",
       "小芳  巨蟹  160cm\n",
       "小宛  白羊  168cm\n",
       "小风  金牛  158cm\n",
       "阿泰  双子  178cm\n",
       "小明  摩羯  173cm"
      ]
     },
     "execution_count": 28,
     "metadata": {},
     "output_type": "execute_result"
    }
   ],
   "source": [
    "# 查看基本信息\n",
    "df = pd.read_csv('m3.csv', encoding='gbk', index_col=0)\n",
    "df"
   ]
  },
  {
   "cell_type": "code",
   "execution_count": 29,
   "metadata": {},
   "outputs": [
    {
     "data": {
      "text/html": [
       "<div>\n",
       "<style scoped>\n",
       "    .dataframe tbody tr th:only-of-type {\n",
       "        vertical-align: middle;\n",
       "    }\n",
       "\n",
       "    .dataframe tbody tr th {\n",
       "        vertical-align: top;\n",
       "    }\n",
       "\n",
       "    .dataframe thead th {\n",
       "        text-align: right;\n",
       "    }\n",
       "</style>\n",
       "<table border=\"1\" class=\"dataframe\">\n",
       "  <thead>\n",
       "    <tr style=\"text-align: right;\">\n",
       "      <th></th>\n",
       "      <th>星座</th>\n",
       "      <th>身高</th>\n",
       "    </tr>\n",
       "    <tr>\n",
       "      <th>姓名</th>\n",
       "      <th></th>\n",
       "      <th></th>\n",
       "    </tr>\n",
       "  </thead>\n",
       "  <tbody>\n",
       "    <tr>\n",
       "      <th>小芳</th>\n",
       "      <td>巨蟹</td>\n",
       "      <td>160cm</td>\n",
       "    </tr>\n",
       "    <tr>\n",
       "      <th>小宛</th>\n",
       "      <td>白羊</td>\n",
       "      <td>168cm</td>\n",
       "    </tr>\n",
       "  </tbody>\n",
       "</table>\n",
       "</div>"
      ],
      "text/plain": [
       "    星座     身高\n",
       "姓名           \n",
       "小芳  巨蟹  160cm\n",
       "小宛  白羊  168cm"
      ]
     },
     "execution_count": 29,
     "metadata": {},
     "output_type": "execute_result"
    }
   ],
   "source": [
    "df.head(2)"
   ]
  },
  {
   "cell_type": "code",
   "execution_count": 30,
   "metadata": {},
   "outputs": [
    {
     "data": {
      "text/html": [
       "<div>\n",
       "<style scoped>\n",
       "    .dataframe tbody tr th:only-of-type {\n",
       "        vertical-align: middle;\n",
       "    }\n",
       "\n",
       "    .dataframe tbody tr th {\n",
       "        vertical-align: top;\n",
       "    }\n",
       "\n",
       "    .dataframe thead th {\n",
       "        text-align: right;\n",
       "    }\n",
       "</style>\n",
       "<table border=\"1\" class=\"dataframe\">\n",
       "  <thead>\n",
       "    <tr style=\"text-align: right;\">\n",
       "      <th></th>\n",
       "      <th>星座</th>\n",
       "      <th>身高</th>\n",
       "    </tr>\n",
       "    <tr>\n",
       "      <th>姓名</th>\n",
       "      <th></th>\n",
       "      <th></th>\n",
       "    </tr>\n",
       "  </thead>\n",
       "  <tbody>\n",
       "    <tr>\n",
       "      <th>阿泰</th>\n",
       "      <td>双子</td>\n",
       "      <td>178cm</td>\n",
       "    </tr>\n",
       "    <tr>\n",
       "      <th>小明</th>\n",
       "      <td>摩羯</td>\n",
       "      <td>173cm</td>\n",
       "    </tr>\n",
       "  </tbody>\n",
       "</table>\n",
       "</div>"
      ],
      "text/plain": [
       "    星座     身高\n",
       "姓名           \n",
       "阿泰  双子  178cm\n",
       "小明  摩羯  173cm"
      ]
     },
     "execution_count": 30,
     "metadata": {},
     "output_type": "execute_result"
    }
   ],
   "source": [
    "df.tail(2)"
   ]
  },
  {
   "cell_type": "code",
   "execution_count": 31,
   "metadata": {},
   "outputs": [
    {
     "name": "stdout",
     "output_type": "stream",
     "text": [
      "<class 'pandas.core.frame.DataFrame'>\n",
      "Index: 5 entries, 小芳 to 小明\n",
      "Data columns (total 2 columns):\n",
      "星座    5 non-null object\n",
      "身高    5 non-null object\n",
      "dtypes: object(2)\n",
      "memory usage: 120.0+ bytes\n"
     ]
    }
   ],
   "source": [
    "df.info()"
   ]
  },
  {
   "cell_type": "code",
   "execution_count": 32,
   "metadata": {},
   "outputs": [
    {
     "data": {
      "text/plain": [
       "Index(['小芳', '小宛', '小风', '阿泰', '小明'], dtype='object', name='姓名')"
      ]
     },
     "execution_count": 32,
     "metadata": {},
     "output_type": "execute_result"
    }
   ],
   "source": [
    "df.index"
   ]
  },
  {
   "cell_type": "code",
   "execution_count": 33,
   "metadata": {},
   "outputs": [
    {
     "data": {
      "text/plain": [
       "Index(['星座', '身高'], dtype='object')"
      ]
     },
     "execution_count": 33,
     "metadata": {},
     "output_type": "execute_result"
    }
   ],
   "source": [
    "df.columns"
   ]
  },
  {
   "cell_type": "code",
   "execution_count": 34,
   "metadata": {},
   "outputs": [
    {
     "data": {
      "text/plain": [
       "array([['巨蟹', '160cm'],\n",
       "       ['白羊', '168cm'],\n",
       "       ['金牛', '158cm'],\n",
       "       ['双子', '178cm'],\n",
       "       ['摩羯', '173cm']], dtype=object)"
      ]
     },
     "execution_count": 34,
     "metadata": {},
     "output_type": "execute_result"
    }
   ],
   "source": [
    "df.values"
   ]
  },
  {
   "cell_type": "code",
   "execution_count": null,
   "metadata": {},
   "outputs": [],
   "source": []
  }
 ],
 "metadata": {
  "kernelspec": {
   "display_name": "Python 3",
   "language": "python",
   "name": "python3"
  },
  "language_info": {
   "codemirror_mode": {
    "name": "ipython",
    "version": 3
   },
   "file_extension": ".py",
   "mimetype": "text/x-python",
   "name": "python",
   "nbconvert_exporter": "python",
   "pygments_lexer": "ipython3",
   "version": "3.7.3"
  },
  "toc": {
   "base_numbering": 1,
   "nav_menu": {},
   "number_sections": true,
   "sideBar": true,
   "skip_h1_title": false,
   "title_cell": "Table of Contents",
   "title_sidebar": "Contents",
   "toc_cell": false,
   "toc_position": {},
   "toc_section_display": true,
   "toc_window_display": false
  }
 },
 "nbformat": 4,
 "nbformat_minor": 2
}
