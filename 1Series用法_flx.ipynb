{
 "cells": [
  {
   "cell_type": "code",
   "execution_count": 1,
   "metadata": {},
   "outputs": [],
   "source": [
    "# pandas 之 Series的创建与索引\n",
    "import numpy as np\n",
    "import pandas as pd\n",
    "import random"
   ]
  },
  {
   "cell_type": "code",
   "execution_count": 10,
   "metadata": {},
   "outputs": [
    {
     "name": "stdout",
     "output_type": "stream",
     "text": [
      "一维数组：\n",
      "马一    10\n",
      "成二    20\n",
      "张三    30\n",
      "李四    40\n",
      "王五    50\n",
      "周六    60\n",
      "dtype: int64\n"
     ]
    }
   ],
   "source": [
    "age = [10, 20, 30, 40, 50, 60]\n",
    "name = ['马一', '成二', '张三', '李四', '王五','周六']\n",
    "s = pd.Series(age, index=name)\n",
    "print(\"一维数组：\")\n",
    "print(s)"
   ]
  },
  {
   "cell_type": "code",
   "execution_count": 11,
   "metadata": {},
   "outputs": [
    {
     "name": "stdout",
     "output_type": "stream",
     "text": [
      "数组名称： None\n",
      "数组元素： [10 20 30 40 50 60]\n",
      "数组索引名称： None\n"
     ]
    }
   ],
   "source": [
    "# s.name # 提取名称\n",
    "# s.index # 提取 索引\n",
    "# s.values # 提取 值\n",
    "# s.dtype # 提取 数据类型\n",
    "# s.index.name # 索引名称\n",
    "print('数组名称：', s.name)\n",
    "print('数组元素：', s.values)\n",
    "print('数组索引名称：', s.index.name)\n"
   ]
  },
  {
   "cell_type": "code",
   "execution_count": 12,
   "metadata": {},
   "outputs": [
    {
     "name": "stdout",
     "output_type": "stream",
     "text": [
      "马一    10\n",
      "成二    20\n",
      "张三    30\n",
      "李四    40\n",
      "王五    50\n",
      "周六    60\n",
      "Name: 居民年龄, dtype: int64\n",
      "==================================================\n",
      "姓名\n",
      "马一    10\n",
      "成二    20\n",
      "张三    30\n",
      "李四    40\n",
      "王五    50\n",
      "周六    60\n",
      "Name: 居民年龄, dtype: int64\n"
     ]
    }
   ],
   "source": [
    "s.name = '居民年龄'\n",
    "print(s)\n",
    "print(\"=\" * 50)\n",
    "s.index.name = \"姓名\"\n",
    "print(s)"
   ]
  },
  {
   "cell_type": "code",
   "execution_count": 14,
   "metadata": {},
   "outputs": [
    {
     "name": "stdout",
     "output_type": "stream",
     "text": [
      "s[3] => 40\n",
      "s[王五] => 50\n"
     ]
    }
   ],
   "source": [
    "# Series的索引有两种思路:\n",
    "# 第一种把Series当做列表\n",
    "# 第二种把Series当做字典\n",
    "print(\"s[3] =>\", s[3])\n",
    "print(\"s[王五] =>\", s['王五'])\n"
   ]
  },
  {
   "cell_type": "code",
   "execution_count": 15,
   "metadata": {},
   "outputs": [
    {
     "name": "stdout",
     "output_type": "stream",
     "text": [
      "s[2:4]=>\n",
      " 姓名\n",
      "张三    30\n",
      "李四    40\n",
      "Name: 居民年龄, dtype: int64\n",
      "==================================================\n",
      "s[马一:李四]=>\n",
      " 姓名\n",
      "马一    10\n",
      "成二    20\n",
      "张三    30\n",
      "李四    40\n",
      "Name: 居民年龄, dtype: int64\n"
     ]
    }
   ],
   "source": [
    "# Series的切片：\n",
    "print('s[2:4]=>\\n', s[2:4])\n",
    "print(\"=\" * 50)\n",
    "print(\"s[马一:李四]=>\\n\", s['马一':'李四'])\n"
   ]
  },
  {
   "cell_type": "code",
   "execution_count": 16,
   "metadata": {},
   "outputs": [
    {
     "name": "stdout",
     "output_type": "stream",
     "text": [
      "s[s<30]=>\n",
      " 姓名\n",
      "马一    10\n",
      "成二    20\n",
      "Name: 居民年龄, dtype: int64\n",
      "==================================================\n",
      "s[s>30]=>\n",
      " 姓名\n",
      "李四    40\n",
      "王五    50\n",
      "周六    60\n",
      "Name: 居民年龄, dtype: int64\n",
      "==================================================\n",
      "s[s!=30]=> 姓名\n",
      "马一    10\n",
      "成二    20\n",
      "李四    40\n",
      "王五    50\n",
      "周六    60\n",
      "Name: 居民年龄, dtype: int64\n"
     ]
    }
   ],
   "source": [
    "print('s[s<30]=>\\n', s[s<30])\n",
    "print(\"=\" * 50)\n",
    "print('s[s>30]=>\\n', s[s>30])\n",
    "print(\"=\" * 50)\n",
    "print('s[s!=30]=>', s[s!=30])"
   ]
  },
  {
   "cell_type": "code",
   "execution_count": 18,
   "metadata": {},
   "outputs": [
    {
     "name": "stdout",
     "output_type": "stream",
     "text": [
      "姓名\n",
      "张三    30\n",
      "李四    40\n",
      "王五    50\n",
      "Name: 居民年龄, dtype: int64\n",
      "==================================================\n",
      "姓名\n",
      "成二    20\n",
      "张三    30\n",
      "李四    40\n",
      "王五    50\n",
      "Name: 居民年龄, dtype: int64\n"
     ]
    }
   ],
   "source": [
    "print(s[['张三', '李四', '王五']])\n",
    "print(\"=\" * 50)\n",
    "print(s['成二':'王五'])"
   ]
  },
  {
   "cell_type": "code",
   "execution_count": null,
   "metadata": {},
   "outputs": [],
   "source": []
  },
  {
   "cell_type": "code",
   "execution_count": null,
   "metadata": {},
   "outputs": [],
   "source": []
  }
 ],
 "metadata": {
  "kernelspec": {
   "display_name": "Python 3",
   "language": "python",
   "name": "python3"
  },
  "language_info": {
   "codemirror_mode": {
    "name": "ipython",
    "version": 3
   },
   "file_extension": ".py",
   "mimetype": "text/x-python",
   "name": "python",
   "nbconvert_exporter": "python",
   "pygments_lexer": "ipython3",
   "version": "3.7.3"
  },
  "toc": {
   "base_numbering": 1,
   "nav_menu": {},
   "number_sections": true,
   "sideBar": true,
   "skip_h1_title": false,
   "title_cell": "Table of Contents",
   "title_sidebar": "Contents",
   "toc_cell": false,
   "toc_position": {},
   "toc_section_display": true,
   "toc_window_display": false
  }
 },
 "nbformat": 4,
 "nbformat_minor": 2
}
